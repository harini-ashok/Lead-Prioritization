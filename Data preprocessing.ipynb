{
 "cells": [
  {
   "cell_type": "code",
   "execution_count": 1,
   "metadata": {},
   "outputs": [],
   "source": [
    "import pandas as pd\n",
    "import numpy as np\n",
    "import matplotlib.pyplot as plt\n",
    "import seaborn as sns\n",
    "%matplotlib inline"
   ]
  },
  {
   "cell_type": "code",
   "execution_count": 2,
   "metadata": {},
   "outputs": [],
   "source": [
    "import xlrd, csv\n",
    "import datetime as dt "
   ]
  },
  {
   "cell_type": "code",
   "execution_count": 3,
   "metadata": {
    "scrolled": true
   },
   "outputs": [
    {
     "name": "stderr",
     "output_type": "stream",
     "text": [
      "/Users/hariniashok/opt/anaconda3/lib/python3.7/site-packages/IPython/core/interactiveshell.py:3058: DtypeWarning: Columns (18) have mixed types. Specify dtype option on import or set low_memory=False.\n",
      "  interactivity=interactivity, compiler=compiler, result=result)\n"
     ]
    }
   ],
   "source": [
    "leads = pd.read_csv('Input4.csv', encoding = \"ISO-8859-1\")"
   ]
  },
  {
   "cell_type": "markdown",
   "metadata": {},
   "source": [
    "##### Calculating Leads and Sales for all fields"
   ]
  },
  {
   "cell_type": "code",
   "execution_count": 4,
   "metadata": {},
   "outputs": [
    {
     "name": "stderr",
     "output_type": "stream",
     "text": [
      "/Users/hariniashok/opt/anaconda3/lib/python3.7/site-packages/ipykernel_launcher.py:5: SettingWithCopyWarning: \n",
      "A value is trying to be set on a copy of a slice from a DataFrame\n",
      "\n",
      "See the caveats in the documentation: http://pandas.pydata.org/pandas-docs/stable/user_guide/indexing.html#returning-a-view-versus-a-copy\n",
      "  \"\"\"\n",
      "/Users/hariniashok/opt/anaconda3/lib/python3.7/site-packages/ipykernel_launcher.py:11: SettingWithCopyWarning: \n",
      "A value is trying to be set on a copy of a slice from a DataFrame\n",
      "\n",
      "See the caveats in the documentation: http://pandas.pydata.org/pandas-docs/stable/user_guide/indexing.html#returning-a-view-versus-a-copy\n",
      "  # This is added back by InteractiveShellApp.init_path()\n",
      "/Users/hariniashok/opt/anaconda3/lib/python3.7/site-packages/ipykernel_launcher.py:15: SettingWithCopyWarning: \n",
      "A value is trying to be set on a copy of a slice from a DataFrame\n",
      "\n",
      "See the caveats in the documentation: http://pandas.pydata.org/pandas-docs/stable/user_guide/indexing.html#returning-a-view-versus-a-copy\n",
      "  from ipykernel import kernelapp as app\n",
      "/Users/hariniashok/opt/anaconda3/lib/python3.7/site-packages/ipykernel_launcher.py:13: SettingWithCopyWarning: \n",
      "A value is trying to be set on a copy of a slice from a DataFrame\n",
      "\n",
      "See the caveats in the documentation: http://pandas.pydata.org/pandas-docs/stable/user_guide/indexing.html#returning-a-view-versus-a-copy\n",
      "  del sys.path[0]\n"
     ]
    }
   ],
   "source": [
    "#lead value\n",
    "leads['Lead'] = 1\n",
    "#Sale value\n",
    "leads['Sale']  = 0\n",
    "leads['Sale'][leads['Stage'] == 'Closed Won'] = 1\n",
    "leads['fix'] = 0\n",
    "leads['met'] = 1\n",
    "cond = ['Met and interested', 'Met and Not Interested', 'Not Qualified', 'Met but not interested', 'Appointment fixed', 'Booking Confirmed']\n",
    "\n",
    "for c in cond:\n",
    "    leads['fix'][leads['Lead Enquiry Stage'] == c] = 1\n",
    "    if c == 'Appointment fixed' or c == 'Booking Confirmed':\n",
    "        leads['met'][leads['Lead Enquiry Stage'] == c] = 0\n",
    "    else:\n",
    "        leads['met'][leads['Lead Enquiry Stage'] == c] = 1"
   ]
  },
  {
   "cell_type": "markdown",
   "metadata": {},
   "source": [
    "Noise removal - Removing low contributing fields and outliers"
   ]
  },
  {
   "cell_type": "code",
   "execution_count": 6,
   "metadata": {},
   "outputs": [],
   "source": [
    "leads = leads[leads['Campaign Type'] != 'National Alliance']\n",
    "leads = leads[leads['Ethnicity'] != 'north east']\n",
    "leads = leads[leads['Car Size'] != 'audi']\n",
    "leads = leads[leads['Car Size'] != 'datsun']\n",
    "leads = leads[leads['Car Size'] != 'jeep']\n"
   ]
  },
  {
   "cell_type": "markdown",
   "metadata": {},
   "source": [
    "#### Initial Target Sales %"
   ]
  },
  {
   "cell_type": "code",
   "execution_count": 7,
   "metadata": {},
   "outputs": [
    {
     "data": {
      "text/plain": [
       "0.15407917840519506"
      ]
     },
     "execution_count": 7,
     "metadata": {},
     "output_type": "execute_result"
    }
   ],
   "source": [
    "target = len(leads[leads['Sale']  == 1])/len(leads)\n",
    "target*100"
   ]
  },
  {
   "cell_type": "code",
   "execution_count": 7,
   "metadata": {},
   "outputs": [
    {
     "data": {
      "text/plain": [
       "0.15341188327153207"
      ]
     },
     "execution_count": 7,
     "metadata": {},
     "output_type": "execute_result"
    }
   ],
   "source": [
    "leads['Sale'].sum()/leads['Lead'].count()*100"
   ]
  },
  {
   "cell_type": "code",
   "execution_count": 8,
   "metadata": {},
   "outputs": [
    {
     "data": {
      "text/plain": [
       "0.15341188327153207"
      ]
     },
     "execution_count": 8,
     "metadata": {},
     "output_type": "execute_result"
    }
   ],
   "source": [
    "leads['Sale'].sum()/len(leads['Lead'])*100"
   ]
  },
  {
   "cell_type": "markdown",
   "metadata": {},
   "source": [
    "##### Data Cleaning - correcting field categories"
   ]
  },
  {
   "cell_type": "code",
   "execution_count": 25,
   "metadata": {},
   "outputs": [
    {
     "data": {
      "text/plain": [
       "0             36 to 39\n",
       "1          age unknown\n",
       "2          age unknown\n",
       "3          age unknown\n",
       "4          age unknown\n",
       "              ...     \n",
       "2008314    age unknown\n",
       "2008315    age unknown\n",
       "2008316    age unknown\n",
       "2008317    age unknown\n",
       "2008318    age unknown\n",
       "Name: Derived Age Group, Length: 2008319, dtype: object"
      ]
     },
     "execution_count": 25,
     "metadata": {},
     "output_type": "execute_result"
    }
   ],
   "source": [
    "leads['Derived Age Group'].replace(to_replace =\"42\", value =\"40 to 49\")"
   ]
  },
  {
   "cell_type": "code",
   "execution_count": 28,
   "metadata": {},
   "outputs": [
    {
     "data": {
      "text/plain": [
       "0             36 to 39\n",
       "1          age unknown\n",
       "2          age unknown\n",
       "3          age unknown\n",
       "4          age unknown\n",
       "              ...     \n",
       "2008314            NaN\n",
       "2008315            NaN\n",
       "2008316            NaN\n",
       "2008317            NaN\n",
       "2008318            NaN\n",
       "Name: Derived Age Group, Length: 2008319, dtype: object"
      ]
     },
     "execution_count": 28,
     "metadata": {},
     "output_type": "execute_result"
    }
   ],
   "source": [
    "tmp['Derived Age Group'].replace(to_replace =\"42\", value =\"40 to 49\")"
   ]
  },
  {
   "cell_type": "code",
   "execution_count": 47,
   "metadata": {},
   "outputs": [],
   "source": [
    "leads = leads.replace(to_replace =\"ethnicity_unknown\", value =\"ethnicity unknown\")\n",
    "leads['Ethnicity'].fillna('ethnicity unknown', inplace=True)\n",
    "\n",
    "leads['Tier'].fillna('Tier Unknown', inplace=True)\n",
    "\n",
    "leads['Car Size'] = leads['Car Size'].replace(to_replace =\"yes\", value =\"size unknown\")\n",
    "leads['Car Size'].fillna('size unknown', inplace=True)\n",
    "\n",
    "leads['Derived Age Group'] = leads['Derived Age Group'].replace(to_replace =\"42\", value =\"40 to 49\")\n",
    "leads['Derived Age Group'].fillna('age unknown', inplace=True)\n",
    "\n",
    "leads['Derived Children'].fillna('child unknown', inplace=True)\n",
    "\n",
    "leads['Derived Marital Status'].fillna('marital unknown', inplace=True)\n",
    "leads['Derived Marital Status'] = leads['Derived Marital Status'].replace(to_replace =\"MARRIED\", value =\"married\")\n",
    "leads['Derived Marital Status'] = leads['Derived Marital Status'].replace(to_replace =\"singal\", value =\"single\")\n",
    "\n",
    "leads['Car Segment'] = leads['Car Segment'].replace(to_replace =\"yes\", value =\"segment unknown\")\n",
    "leads['Car Segment'].fillna('segment unknown', inplace=True)\n",
    "\n",
    "leads['Derived Credit Card'] = leads['Derived Credit Card'].replace(to_replace =\"YES\", value =\"cc unknown\")\n",
    "leads['Derived Credit Card'] = leads['Derived Credit Card'].replace(to_replace =\"credit card unknown\", value =\"cc unknown\")\n",
    "leads['Derived Credit Card'].fillna('cc unknown', inplace=True)\n",
    "\n",
    "leads['Derived Income Range'] = leads['Derived Income Range'].replace(to_replace =\"70K\", value =\"rs.65000 to rs.100000\")\n",
    "leads['Derived Income Range'].fillna('income unknown', inplace=True)\n",
    "\n",
    "\n",
    "leads['Email Domain'].fillna('email unknown', inplace=True)\n",
    "leads['Email Domain'] = leads['Email Domain'].replace(to_replace =\"mnazim_shaikh@rediffmail.com\", value =\"rediff.com\")\n",
    "leads['Email Domain'] = leads['Email Domain'].replace(to_replace =\"paragjani@gmail.com\", value =\"gmail.com\")\n",
    "\n"
   ]
  },
  {
   "cell_type": "code",
   "execution_count": 13,
   "metadata": {},
   "outputs": [],
   "source": [
    "ldf['new_date'] = pd.to_datetime(ldf['Created Date'])"
   ]
  },
  {
   "cell_type": "code",
   "execution_count": 18,
   "metadata": {},
   "outputs": [],
   "source": [
    "ldf2 = ldf"
   ]
  },
  {
   "cell_type": "markdown",
   "metadata": {},
   "source": [
    "Dropping non-feature columns"
   ]
  },
  {
   "cell_type": "code",
   "execution_count": 19,
   "metadata": {},
   "outputs": [],
   "source": [
    "ldf2 = ldf2.drop(['Lead ID', 'Rating', 'Created Date', '18 Digit',\n",
    "                                         'fix', 'met', 'new_date', 'Mobile', 'Stage','Lead Enquiry Stage'], axis=1)"
   ]
  },
  {
   "cell_type": "code",
   "execution_count": 8,
   "metadata": {},
   "outputs": [
    {
     "data": {
      "text/plain": [
       "Index(['Lead ID', 'Ethnicity', 'Mobile Operator', 'Email Domain',\n",
       "       'Campaign Type', 'Car Segment', 'Derived Occupation',\n",
       "       'Derived Marital Status', 'Derived Children', 'Derived Age Group',\n",
       "       'Derived Credit Card', 'Derived Income Range', 'Car Size', 'Tier',\n",
       "       'Branch Master', 'City', 'Branch', 'Rating', 'Mobile', 'Stage',\n",
       "       'Lead Enquiry Stage', 'Created Date', 'Campaign City',\n",
       "       'Campaign Category', 'Count Activity', '18 Digit', 'Lead', 'Sale',\n",
       "       'fix', 'met'],\n",
       "      dtype='object')"
      ]
     },
     "execution_count": 8,
     "metadata": {},
     "output_type": "execute_result"
    }
   ],
   "source": [
    "ldf.columns"
   ]
  },
  {
   "cell_type": "markdown",
   "metadata": {},
   "source": [
    "groupby month and year"
   ]
  },
  {
   "cell_type": "code",
   "execution_count": 35,
   "metadata": {},
   "outputs": [
    {
     "data": {
      "text/plain": [
       "new_date  new_date\n",
       "1.0       2019.0      0.000048\n",
       "          2020.0      0.000001\n",
       "2.0       2019.0      0.000038\n",
       "          2020.0      0.000005\n",
       "3.0       2019.0      0.000046\n",
       "          2020.0      0.000003\n",
       "4.0       2019.0      0.000129\n",
       "          2020.0      0.000003\n",
       "5.0       2019.0      0.000146\n",
       "          2020.0      0.000007\n",
       "6.0       2019.0      0.000145\n",
       "7.0       2019.0      0.000159\n",
       "8.0       2019.0      0.000162\n",
       "9.0       2019.0      0.000185\n",
       "10.0      2019.0      0.000146\n",
       "11.0      2019.0      0.000168\n",
       "12.0      2019.0      0.000140\n",
       "Name: Sale, dtype: float64"
      ]
     },
     "execution_count": 35,
     "metadata": {},
     "output_type": "execute_result"
    }
   ],
   "source": [
    "by_mon = ldf.groupby([ldf['new_date'].dt.month, ldf['new_date'].dt.year])['Sale']\n",
    "by_mon.agg(lambda x:  (x.eq(1).sum()/len(ldf)))"
   ]
  },
  {
   "cell_type": "markdown",
   "metadata": {},
   "source": [
    "#### Grouping into Monthly Cycles (MCs)"
   ]
  },
  {
   "cell_type": "code",
   "execution_count": 9,
   "metadata": {},
   "outputs": [],
   "source": [
    "ldf = ldf.drop(['Lead ID', 'Rating', 'Created Date', '18 Digit',\n",
    "                'fix', 'met', 'Mobile', 'Stage','Lead Enquiry Stage', 'City'], axis=1)"
   ]
  },
  {
   "cell_type": "code",
   "execution_count": 10,
   "metadata": {},
   "outputs": [
    {
     "data": {
      "text/plain": [
       "Index(['Ethnicity', 'Mobile Operator', 'Email Domain', 'Campaign Type',\n",
       "       'Car Segment', 'Derived Occupation', 'Derived Marital Status',\n",
       "       'Derived Children', 'Derived Age Group', 'Derived Credit Card',\n",
       "       'Derived Income Range', 'Car Size', 'Tier', 'Branch Master', 'Branch',\n",
       "       'Campaign City', 'Campaign Category', 'Count Activity', 'Lead', 'Sale'],\n",
       "      dtype='object')"
      ]
     },
     "execution_count": 10,
     "metadata": {},
     "output_type": "execute_result"
    }
   ],
   "source": [
    "ldf.columns"
   ]
  },
  {
   "cell_type": "code",
   "execution_count": 11,
   "metadata": {},
   "outputs": [],
   "source": [
    "ldf.to_csv('ldf.csv')"
   ]
  },
  {
   "cell_type": "code",
   "execution_count": 38,
   "metadata": {
    "scrolled": true
   },
   "outputs": [
    {
     "name": "stdout",
     "output_type": "stream",
     "text": [
      "day 1: 1\n",
      "month 1 : 4\n",
      "day 2: 28\n",
      "month 2 : 4\n",
      "day 1: 29\n",
      "month 1 : 4\n",
      "day 2: 26\n",
      "month 2 : 5\n",
      "day 1: 27\n",
      "month 1 : 5\n",
      "day 2: 23\n",
      "month 2 : 6\n",
      "day 1: 24\n",
      "month 1 : 6\n",
      "day 2: 21\n",
      "month 2 : 7\n",
      "day 1: 22\n",
      "month 1 : 7\n",
      "day 2: 18\n",
      "month 2 : 8\n",
      "day 1: 19\n",
      "month 1 : 8\n",
      "day 2: 15\n",
      "month 2 : 9\n",
      "day 1: 16\n",
      "month 1 : 9\n",
      "day 2: 13\n",
      "month 2 : 10\n",
      "day 1: 14\n",
      "month 1 : 10\n",
      "day 2: 10\n",
      "month 2 : 11\n"
     ]
    }
   ],
   "source": [
    "mc = {}\n",
    "for i in range(8):\n",
    "    d1 = int(input(\"day 1: \"))\n",
    "    mon1 = int(input(\"month 1 : \"))\n",
    "    \n",
    "    d2 = int(input(\"day 2: \"))\n",
    "    mon2 = int(input(\"month 2 : \"))\n",
    "    mc1_1 = ldf[ldf['new_date'].dt.date >= dt.date(2019, mon1, d1)]['new_date']\n",
    "    mc1_2 = mc1_1[mc1_1.dt.date <= dt.date(2019, mon2, d2)]\n",
    "    mc[i+1] = ldf.loc[mc1_2.index]"
   ]
  },
  {
   "cell_type": "code",
   "execution_count": null,
   "metadata": {},
   "outputs": [],
   "source": [
    "mc2 = {}\n",
    "for i in range(8):\n",
    "    d1 = int(input(\"day 1: \"))\n",
    "    mon1 = int(input(\"month 1 : \"))\n",
    "    \n",
    "    d2 = int(input(\"day 2: \"))\n",
    "    mon2 = int(input(\"month 2 : \"))\n",
    "    mc1_1 = ldf[ldf['new_date'].dt.date >= dt.date(2020, mon1, d1)]['new_date']\n",
    "    mc1_2 = mc1_1[mc1_1.dt.date <= dt.date(2020, mon2, d2)]\n",
    "    mc2[i+1] = ldf.loc[mc1_2.index]"
   ]
  },
  {
   "cell_type": "code",
   "execution_count": null,
   "metadata": {},
   "outputs": [],
   "source": [
    "moncyc = {}\n",
    "for i in range(8):\n",
    "    moncyc[i+1] = mc[i+1].append(mc2[i+1])"
   ]
  },
  {
   "cell_type": "markdown",
   "metadata": {},
   "source": [
    "#### Grouping by fields"
   ]
  },
  {
   "cell_type": "code",
   "execution_count": null,
   "metadata": {},
   "outputs": [],
   "source": [
    "campaign = pd.DataFrame(data=camp_cat.agg(lambda x:  (x.eq(1).sum()/len(ldf))*100))"
   ]
  },
  {
   "cell_type": "markdown",
   "metadata": {},
   "source": [
    "camp_cat.agg(lambda x:  (x.eq(1).sum()/len(ldf))*100 )"
   ]
  },
  {
   "cell_type": "code",
   "execution_count": 20,
   "metadata": {},
   "outputs": [],
   "source": [
    "fields = list(ldf.columns)\n",
    "fields = [e for e in fields if e not in ('Lead ID', 'Rating', 'Created Date', '18 Digit', 'Lead', 'Sale', \n",
    "                                         'fix', 'met', 'new_date', 'Mobile', 'Stage','Lead Enquiry Stage'\n",
    "                                        )]"
   ]
  },
  {
   "cell_type": "code",
   "execution_count": 21,
   "metadata": {},
   "outputs": [
    {
     "data": {
      "text/plain": [
       "['Ethnicity',\n",
       " 'Mobile Operator',\n",
       " 'Email Domain',\n",
       " 'Campaign Type',\n",
       " 'Car Segment',\n",
       " 'Derived Occupation',\n",
       " 'Derived Marital Status',\n",
       " 'Derived Children',\n",
       " 'Derived Age Group',\n",
       " 'Derived Credit Card',\n",
       " 'Derived Income Range',\n",
       " 'Car Size',\n",
       " 'Tier',\n",
       " 'Branch Master',\n",
       " 'Branch',\n",
       " 'Campaign City',\n",
       " 'Campaign Category',\n",
       " 'Count Activity']"
      ]
     },
     "execution_count": 21,
     "metadata": {},
     "output_type": "execute_result"
    }
   ],
   "source": [
    "fields"
   ]
  },
  {
   "cell_type": "raw",
   "metadata": {},
   "source": [
    "all_fields = {}\n",
    "for field in fields:\n",
    "    for i in range(8): \n",
    "        mon_cat = moncyc[i+1].groupby([moncyc[i+1][field]])['Sale']\n",
    "        if i == 0:\n",
    "            mc_cat = pd.DataFrame(data=mon_cat.agg(lambda x:  (x.eq(1).sum()/len(ldf))*100))\n",
    "        else:\n",
    "            mc_cat[str(i+1)] = mon_cat.agg(lambda x:  (x.eq(1).sum()/len(ldf))*100)\n",
    "    mc_cat = mc_cat.rename(columns={'Sale': '1'})\n",
    "    all_fields[field] = mc_cat"
   ]
  },
  {
   "cell_type": "code",
   "execution_count": 72,
   "metadata": {},
   "outputs": [],
   "source": [
    "all_fields = {}\n",
    "for field in fields:\n",
    "    for i in range(8): \n",
    "        mon_cat = moncyc[i+1].groupby([moncyc[i+1][field]])\n",
    "        if i == 0:\n",
    "            mc_cat = pd.DataFrame(data=mon_cat['Sale'].sum()/mon_cat['Lead'].count()*100)\n",
    "        else:\n",
    "            mc_cat[str(i+1)] = mon_cat['Sale'].sum()/mon_cat['Lead'].count()*100\n",
    "    mc_cat = mc_cat.rename(columns={'Sale': '1'})\n",
    "    all_fields[field] = mc_cat"
   ]
  },
  {
   "cell_type": "code",
   "execution_count": 64,
   "metadata": {},
   "outputs": [],
   "source": [
    "mon_cat = moncyc[1].groupby([moncyc[1]['Mobile Operator']])"
   ]
  },
  {
   "cell_type": "code",
   "execution_count": 73,
   "metadata": {},
   "outputs": [],
   "source": [
    "writer = pd.ExcelWriter('percentages_new.xlsx', engine='xlsxwriter')\n",
    "for i in fields:\n",
    "    all_fields[i].to_excel(writer, sheet_name=i)\n",
    "writer.save()"
   ]
  },
  {
   "cell_type": "code",
   "execution_count": 15,
   "metadata": {},
   "outputs": [],
   "source": [
    "from numpy import set_printoptions\n",
    "from sklearn.feature_selection import SelectKBest\n",
    "from sklearn.feature_selection import f_classif"
   ]
  },
  {
   "cell_type": "markdown",
   "metadata": {},
   "source": [
    "### Feature Selection Chi-squared"
   ]
  },
  {
   "cell_type": "code",
   "execution_count": 17,
   "metadata": {},
   "outputs": [],
   "source": [
    "from scipy.stats import chi2_contingency\n"
   ]
  },
  {
   "cell_type": "code",
   "execution_count": 14,
   "metadata": {},
   "outputs": [],
   "source": [
    "ldf.Lead = ldf.Lead.astype(object)\n",
    "ldf.Sale = ldf.Sale.astype(object)"
   ]
  },
  {
   "cell_type": "code",
   "execution_count": 15,
   "metadata": {},
   "outputs": [
    {
     "name": "stdout",
     "output_type": "stream",
     "text": [
      "<class 'pandas.core.frame.DataFrame'>\n",
      "RangeIndex: 2008319 entries, 0 to 2008318\n",
      "Data columns (total 20 columns):\n",
      "Ethnicity                 object\n",
      "Mobile Operator           object\n",
      "Email Domain              object\n",
      "Campaign Type             object\n",
      "Car Segment               object\n",
      "Derived Occupation        object\n",
      "Derived Marital Status    object\n",
      "Derived Children          object\n",
      "Derived Age Group         object\n",
      "Derived Credit Card       object\n",
      "Derived Income Range      object\n",
      "Car Size                  object\n",
      "Tier                      object\n",
      "Branch Master             object\n",
      "Branch                    object\n",
      "Campaign City             object\n",
      "Campaign Category         object\n",
      "Count Activity            float64\n",
      "Lead                      object\n",
      "Sale                      object\n",
      "dtypes: float64(1), object(19)\n",
      "memory usage: 306.4+ MB\n"
     ]
    }
   ],
   "source": [
    "ldf.info()"
   ]
  },
  {
   "cell_type": "code",
   "execution_count": 18,
   "metadata": {},
   "outputs": [],
   "source": [
    "chi_res = chi2_contingency(pd.crosstab(ldf['Sale'], ldf['Car Size']))"
   ]
  },
  {
   "cell_type": "code",
   "execution_count": 19,
   "metadata": {},
   "outputs": [
    {
     "name": "stdout",
     "output_type": "stream",
     "text": [
      "Chi2 Statistic: 342.80973290552583, p-value: 9.306998304408828e-59\n"
     ]
    }
   ],
   "source": [
    "print('Chi2 Statistic: {}, p-value: {}'.format(chi_res[0], chi_res[1]))"
   ]
  },
  {
   "cell_type": "code",
   "execution_count": 23,
   "metadata": {},
   "outputs": [
    {
     "name": "stdout",
     "output_type": "stream",
     "text": [
      "                    Column              Hypothesis\n",
      "0                Ethnicity  Reject Null Hypothesis\n",
      "1          Mobile Operator  Reject Null Hypothesis\n",
      "2             Email Domain  Reject Null Hypothesis\n",
      "3            Campaign Type  Reject Null Hypothesis\n",
      "4              Car Segment  Reject Null Hypothesis\n",
      "5       Derived Occupation  Reject Null Hypothesis\n",
      "6   Derived Marital Status  Reject Null Hypothesis\n",
      "7         Derived Children  Reject Null Hypothesis\n",
      "8        Derived Age Group  Reject Null Hypothesis\n",
      "9      Derived Credit Card  Reject Null Hypothesis\n",
      "10    Derived Income Range  Reject Null Hypothesis\n",
      "11                Car Size  Reject Null Hypothesis\n",
      "12                    Tier  Reject Null Hypothesis\n",
      "13           Branch Master  Reject Null Hypothesis\n",
      "14                  Branch  Reject Null Hypothesis\n",
      "15           Campaign City  Reject Null Hypothesis\n",
      "16       Campaign Category  Reject Null Hypothesis\n",
      "17          Count Activity  Reject Null Hypothesis\n"
     ]
    }
   ],
   "source": [
    "chi2_check = []\n",
    "for i in fields:\n",
    "    if chi2_contingency(pd.crosstab(ldf['Sale'], ldf[i]))[1] < 0.05:\n",
    "        chi2_check.append('Reject Null Hypothesis')\n",
    "    else:\n",
    "        chi2_check.append('Fail to Reject Null Hypothesis')\n",
    "res = pd.DataFrame(data = [fields, chi2_check] \n",
    "             ).T \n",
    "res.columns = ['Column', 'Hypothesis']\n",
    "print(res)"
   ]
  },
  {
   "cell_type": "code",
   "execution_count": 29,
   "metadata": {},
   "outputs": [],
   "source": [
    "car_size_dummies = pd.get_dummies(data = ldf[['Car Size', 'Sale']], columns = ['Car Size'])"
   ]
  },
  {
   "cell_type": "code",
   "execution_count": 30,
   "metadata": {},
   "outputs": [
    {
     "data": {
      "text/plain": [
       "Index(['Sale', 'Car Size_audi', 'Car Size_bmw', 'Car Size_chevrolet',\n",
       "       'Car Size_datsun', 'Car Size_fiat', 'Car Size_ford', 'Car Size_honda',\n",
       "       'Car Size_hyundai', 'Car Size_jeep', 'Car Size_jlr',\n",
       "       'Car Size_mahindra', 'Car Size_maruti', 'Car Size_mercedes benz',\n",
       "       'Car Size_nexa', 'Car Size_nissan', 'Car Size_no car', 'Car Size_other',\n",
       "       'Car Size_renault', 'Car Size_size unknown', 'Car Size_skoda',\n",
       "       'Car Size_tata', 'Car Size_toyota', 'Car Size_vw', 'Car Size_yes'],\n",
       "      dtype='object')"
      ]
     },
     "execution_count": 30,
     "metadata": {},
     "output_type": "execute_result"
    }
   ],
   "source": [
    "car_size_dummies.columns"
   ]
  },
  {
   "cell_type": "code",
   "execution_count": 72,
   "metadata": {},
   "outputs": [],
   "source": [
    "cat = {}\n",
    "for field in fields:\n",
    "    dummies = pd.get_dummies(data = ldf[[field, 'Sale']], columns = [field])\n",
    "    features =  list(dummies.columns)\n",
    "    features.remove(\"Sale\")\n",
    "    chi2_check = []\n",
    "    \n",
    "    for f in features:\n",
    "        chi2_check.append(chi2_contingency(pd.crosstab(dummies['Sale'], dummies[f]))[1])\n",
    "        \n",
    "\n",
    "    res = pd.DataFrame(data = [features, chi2_check]).T \n",
    "    res.columns = ['Feature', 'Hypothesis']\n",
    "    cat[field] = res\n"
   ]
  },
  {
   "cell_type": "code",
   "execution_count": 73,
   "metadata": {},
   "outputs": [],
   "source": [
    "writer = pd.ExcelWriter('p-value.xlsx', engine='xlsxwriter')\n",
    "for i in fields:\n",
    "    cat[i].to_excel(writer, sheet_name=i)\n",
    "writer.save()"
   ]
  },
  {
   "cell_type": "markdown",
   "metadata": {},
   "source": [
    "### Ratio of features where hyp = 1 to no. of features"
   ]
  },
  {
   "cell_type": "code",
   "execution_count": 46,
   "metadata": {},
   "outputs": [],
   "source": [
    "cat = {}\n",
    "for field in fields:\n",
    "    dummies = pd.get_dummies(data = ldf[[field, 'Sale']], columns = [field])\n",
    "    features =  list(dummies.columns)\n",
    "    features.remove(\"Sale\")\n",
    "    chi2_check = []\n",
    "    \n",
    "    for f in features:\n",
    "        if chi2_contingency(pd.crosstab(dummies['Sale'], dummies[f]))[1] < 0.05:\n",
    "            chi2_check.append(1)\n",
    "        else:\n",
    "            chi2_check.append(0)\n",
    "\n",
    "    c = chi2_check.count(1)/len(chi2_check)\n",
    "    cat[field] = c"
   ]
  },
  {
   "cell_type": "code",
   "execution_count": 50,
   "metadata": {},
   "outputs": [],
   "source": [
    "final = []\n",
    "for key, item in cat.items():\n",
    "    if item > 0.5:\n",
    "        final.append(key)"
   ]
  },
  {
   "cell_type": "code",
   "execution_count": 54,
   "metadata": {},
   "outputs": [],
   "source": [
    "final.remove('Count Activity')\n",
    "final.remove('Branch')"
   ]
  },
  {
   "cell_type": "markdown",
   "metadata": {},
   "source": [
    "### Adjusted p-value"
   ]
  },
  {
   "cell_type": "code",
   "execution_count": 63,
   "metadata": {},
   "outputs": [],
   "source": [
    "feat = {}\n",
    "cat = {}\n",
    "for field in fields:\n",
    "    dummies = pd.get_dummies(data = ldf[[field, 'Sale']], columns = [field])\n",
    "    features =  list(dummies.columns)\n",
    "    features.remove(\"Sale\")\n",
    "    chi2_check = []\n",
    "    bon_p_value = 0.05/len(features)\n",
    "    for f in features:\n",
    "        if chi2_contingency(pd.crosstab(dummies['Sale'], dummies[f]))[1] < bon_p_value:\n",
    "            chi2_check.append(1)\n",
    "        else:\n",
    "            chi2_check.append(0)\n",
    "\n",
    "    res = pd.DataFrame(data = [features, chi2_check]).T \n",
    "    res.columns = ['Feature', 'Hypothesis']\n",
    "    c = chi2_check.count(1)/len(chi2_check)\n",
    "    feat[field] = c\n",
    "    cat[field] = res"
   ]
  },
  {
   "cell_type": "code",
   "execution_count": 64,
   "metadata": {},
   "outputs": [],
   "source": [
    "final = []\n",
    "for key, item in feat.items():\n",
    "    if item > 0.5:\n",
    "        final.append(key)"
   ]
  },
  {
   "cell_type": "code",
   "execution_count": 66,
   "metadata": {},
   "outputs": [
    {
     "data": {
      "text/plain": [
       "['Campaign Type',\n",
       " 'Car Segment',\n",
       " 'Derived Marital Status',\n",
       " 'Derived Children',\n",
       " 'Derived Age Group',\n",
       " 'Derived Credit Card',\n",
       " 'Derived Income Range',\n",
       " 'Tier',\n",
       " 'Branch Master',\n",
       " 'Campaign Category']"
      ]
     },
     "execution_count": 66,
     "metadata": {},
     "output_type": "execute_result"
    }
   ],
   "source": [
    "final.remove('Count Activity')\n",
    "final.remove('Branch')\n",
    "final"
   ]
  },
  {
   "cell_type": "code",
   "execution_count": 67,
   "metadata": {},
   "outputs": [],
   "source": [
    "writer = pd.ExcelWriter('features.xlsx', engine='xlsxwriter')\n",
    "for i in fields:\n",
    "    cat[i].to_excel(writer, sheet_name=i)\n",
    "writer.save()"
   ]
  },
  {
   "cell_type": "code",
   "execution_count": 68,
   "metadata": {},
   "outputs": [],
   "source": [
    "not_selected = [e for e in fields if e not in final]"
   ]
  },
  {
   "cell_type": "code",
   "execution_count": 69,
   "metadata": {},
   "outputs": [
    {
     "data": {
      "text/plain": [
       "['Ethnicity',\n",
       " 'Mobile Operator',\n",
       " 'Email Domain',\n",
       " 'Derived Occupation',\n",
       " 'Car Size',\n",
       " 'Branch',\n",
       " 'Campaign City',\n",
       " 'Count Activity']"
      ]
     },
     "execution_count": 69,
     "metadata": {},
     "output_type": "execute_result"
    }
   ],
   "source": [
    "not_selected"
   ]
  },
  {
   "cell_type": "code",
   "execution_count": 75,
   "metadata": {},
   "outputs": [],
   "source": [
    "temp = dict.fromkeys(final, 0)\n",
    "relation = dict.fromkeys(not_selected, temp)\n",
    "for no_field in not_selected:\n",
    "    for in_field in final:\n",
    "        if chi2_contingency(pd.crosstab(ldf[no_field], ldf[in_field]))[1] < 0.05:\n",
    "            relation[no_field][in_field] = 1\n",
    "        else:\n",
    "            relation[no_field][in_field]= 0\n"
   ]
  },
  {
   "cell_type": "code",
   "execution_count": 76,
   "metadata": {},
   "outputs": [
    {
     "name": "stdout",
     "output_type": "stream",
     "text": [
      "{'Branch': {'Branch Master': 1,\n",
      "            'Campaign Category': 1,\n",
      "            'Campaign Type': 1,\n",
      "            'Car Segment': 1,\n",
      "            'Derived Age Group': 1,\n",
      "            'Derived Children': 1,\n",
      "            'Derived Credit Card': 1,\n",
      "            'Derived Income Range': 1,\n",
      "            'Derived Marital Status': 1,\n",
      "            'Tier': 1},\n",
      " 'Campaign City': {'Branch Master': 1,\n",
      "                   'Campaign Category': 1,\n",
      "                   'Campaign Type': 1,\n",
      "                   'Car Segment': 1,\n",
      "                   'Derived Age Group': 1,\n",
      "                   'Derived Children': 1,\n",
      "                   'Derived Credit Card': 1,\n",
      "                   'Derived Income Range': 1,\n",
      "                   'Derived Marital Status': 1,\n",
      "                   'Tier': 1},\n",
      " 'Car Size': {'Branch Master': 1,\n",
      "              'Campaign Category': 1,\n",
      "              'Campaign Type': 1,\n",
      "              'Car Segment': 1,\n",
      "              'Derived Age Group': 1,\n",
      "              'Derived Children': 1,\n",
      "              'Derived Credit Card': 1,\n",
      "              'Derived Income Range': 1,\n",
      "              'Derived Marital Status': 1,\n",
      "              'Tier': 1},\n",
      " 'Count Activity': {'Branch Master': 1,\n",
      "                    'Campaign Category': 1,\n",
      "                    'Campaign Type': 1,\n",
      "                    'Car Segment': 1,\n",
      "                    'Derived Age Group': 1,\n",
      "                    'Derived Children': 1,\n",
      "                    'Derived Credit Card': 1,\n",
      "                    'Derived Income Range': 1,\n",
      "                    'Derived Marital Status': 1,\n",
      "                    'Tier': 1},\n",
      " 'Derived Occupation': {'Branch Master': 1,\n",
      "                        'Campaign Category': 1,\n",
      "                        'Campaign Type': 1,\n",
      "                        'Car Segment': 1,\n",
      "                        'Derived Age Group': 1,\n",
      "                        'Derived Children': 1,\n",
      "                        'Derived Credit Card': 1,\n",
      "                        'Derived Income Range': 1,\n",
      "                        'Derived Marital Status': 1,\n",
      "                        'Tier': 1},\n",
      " 'Email Domain': {'Branch Master': 1,\n",
      "                  'Campaign Category': 1,\n",
      "                  'Campaign Type': 1,\n",
      "                  'Car Segment': 1,\n",
      "                  'Derived Age Group': 1,\n",
      "                  'Derived Children': 1,\n",
      "                  'Derived Credit Card': 1,\n",
      "                  'Derived Income Range': 1,\n",
      "                  'Derived Marital Status': 1,\n",
      "                  'Tier': 1},\n",
      " 'Ethnicity': {'Branch Master': 1,\n",
      "               'Campaign Category': 1,\n",
      "               'Campaign Type': 1,\n",
      "               'Car Segment': 1,\n",
      "               'Derived Age Group': 1,\n",
      "               'Derived Children': 1,\n",
      "               'Derived Credit Card': 1,\n",
      "               'Derived Income Range': 1,\n",
      "               'Derived Marital Status': 1,\n",
      "               'Tier': 1},\n",
      " 'Mobile Operator': {'Branch Master': 1,\n",
      "                     'Campaign Category': 1,\n",
      "                     'Campaign Type': 1,\n",
      "                     'Car Segment': 1,\n",
      "                     'Derived Age Group': 1,\n",
      "                     'Derived Children': 1,\n",
      "                     'Derived Credit Card': 1,\n",
      "                     'Derived Income Range': 1,\n",
      "                     'Derived Marital Status': 1,\n",
      "                     'Tier': 1}}\n"
     ]
    }
   ],
   "source": [
    "from pprint import pprint\n",
    "\n",
    "pprint(relation)\n",
    "\n"
   ]
  },
  {
   "cell_type": "code",
   "execution_count": 49,
   "metadata": {},
   "outputs": [],
   "source": [
    "leads['new_date'] = pd.to_datetime(leads['Created Date'])\n",
    "leads = leads.drop(['Lead ID', 'Rating', 'Created Date', '18 Digit',\n",
    "                 'Mobile', 'Stage','Lead Enquiry Stage'], axis=1)\n",
    "with open('input.txt', 'r') as file:\n",
    "    lines = file.readlines()\n",
    "mc = {}\n",
    "m = 1\n",
    "for i in range(0, len(lines), 4):\n",
    "    d1 = int(lines[i])\n",
    "    mon1 = int(lines[i+1])\n",
    "\n",
    "    d2 = int(lines[i+2])\n",
    "    mon2 = int(lines[i+3])\n",
    "    mc1_1 = leads[leads['new_date'].dt.date >= dt.date(2019, mon1, d1)]['new_date']\n",
    "    mc1_2 = mc1_1[mc1_1.dt.date <= dt.date(2019, mon2, d2)]\n",
    "    mc[m] = leads.loc[mc1_2.index]\n",
    "    m+=1"
   ]
  },
  {
   "cell_type": "code",
   "execution_count": 50,
   "metadata": {},
   "outputs": [],
   "source": [
    "fields = list(leads.columns)\n",
    "fields = [e for e in fields if e not in ('Lead ID', 'Rating', 'Created Date', '18 Digit', 'Lead', \n",
    "                                         'Sale', 'fix', 'met', 'new_date', 'Mobile', 'Stage',\n",
    "                                         'Lead Enquiry Stage', 'Count Activity', 'Branch',\n",
    "                                         'Mobile Operator'\n",
    "                                        )]"
   ]
  },
  {
   "cell_type": "code",
   "execution_count": 52,
   "metadata": {},
   "outputs": [],
   "source": [
    "moncyc = mc\n",
    "all_fields = {}\n",
    "for field in fields:\n",
    "    for i in range(8): \n",
    "        mon_cat = moncyc[i+1].groupby([moncyc[i+1][field]])\n",
    "        if i == 0:\n",
    "            mc_cat = pd.DataFrame(data=mon_cat['Sale'].sum()/mon_cat['Lead'].count()*100)\n",
    "        else:\n",
    "            mc_cat[str(i+1)] = mon_cat['Sale'].sum()/mon_cat['Lead'].count()*100\n",
    "    mc_cat = mc_cat.rename(columns={0: 1})\n",
    "    all_fields[field] = mc_cat"
   ]
  },
  {
   "cell_type": "code",
   "execution_count": 53,
   "metadata": {},
   "outputs": [
    {
     "data": {
      "text/html": [
       "<div>\n",
       "<style scoped>\n",
       "    .dataframe tbody tr th:only-of-type {\n",
       "        vertical-align: middle;\n",
       "    }\n",
       "\n",
       "    .dataframe tbody tr th {\n",
       "        vertical-align: top;\n",
       "    }\n",
       "\n",
       "    .dataframe thead th {\n",
       "        text-align: right;\n",
       "    }\n",
       "</style>\n",
       "<table border=\"1\" class=\"dataframe\">\n",
       "  <thead>\n",
       "    <tr style=\"text-align: right;\">\n",
       "      <th></th>\n",
       "      <th>1</th>\n",
       "      <th>2</th>\n",
       "      <th>3</th>\n",
       "      <th>4</th>\n",
       "      <th>5</th>\n",
       "      <th>6</th>\n",
       "      <th>7</th>\n",
       "      <th>8</th>\n",
       "    </tr>\n",
       "    <tr>\n",
       "      <th>Derived Age Group</th>\n",
       "      <th></th>\n",
       "      <th></th>\n",
       "      <th></th>\n",
       "      <th></th>\n",
       "      <th></th>\n",
       "      <th></th>\n",
       "      <th></th>\n",
       "      <th></th>\n",
       "    </tr>\n",
       "  </thead>\n",
       "  <tbody>\n",
       "    <tr>\n",
       "      <td>27 to 30</td>\n",
       "      <td>0.120316</td>\n",
       "      <td>0.150015</td>\n",
       "      <td>0.224498</td>\n",
       "      <td>0.187328</td>\n",
       "      <td>0.215157</td>\n",
       "      <td>0.151603</td>\n",
       "      <td>0.153846</td>\n",
       "      <td>0.125112</td>\n",
       "    </tr>\n",
       "    <tr>\n",
       "      <td>31 to 35</td>\n",
       "      <td>0.221679</td>\n",
       "      <td>0.244260</td>\n",
       "      <td>0.322416</td>\n",
       "      <td>0.167740</td>\n",
       "      <td>0.219202</td>\n",
       "      <td>0.144244</td>\n",
       "      <td>0.222244</td>\n",
       "      <td>0.120100</td>\n",
       "    </tr>\n",
       "    <tr>\n",
       "      <td>36 to 39</td>\n",
       "      <td>0.396880</td>\n",
       "      <td>0.271955</td>\n",
       "      <td>0.316456</td>\n",
       "      <td>0.324957</td>\n",
       "      <td>0.205266</td>\n",
       "      <td>0.201235</td>\n",
       "      <td>0.220924</td>\n",
       "      <td>0.264224</td>\n",
       "    </tr>\n",
       "    <tr>\n",
       "      <td>40 to 49</td>\n",
       "      <td>0.514851</td>\n",
       "      <td>0.412123</td>\n",
       "      <td>0.452690</td>\n",
       "      <td>0.469925</td>\n",
       "      <td>0.397727</td>\n",
       "      <td>0.413724</td>\n",
       "      <td>0.427094</td>\n",
       "      <td>0.414376</td>\n",
       "    </tr>\n",
       "    <tr>\n",
       "      <td>age unknown</td>\n",
       "      <td>0.079807</td>\n",
       "      <td>0.080713</td>\n",
       "      <td>0.103288</td>\n",
       "      <td>0.096717</td>\n",
       "      <td>0.121126</td>\n",
       "      <td>0.098018</td>\n",
       "      <td>0.096582</td>\n",
       "      <td>0.083255</td>\n",
       "    </tr>\n",
       "    <tr>\n",
       "      <td>less than 27</td>\n",
       "      <td>0.072727</td>\n",
       "      <td>0.056148</td>\n",
       "      <td>0.058241</td>\n",
       "      <td>0.039502</td>\n",
       "      <td>0.022302</td>\n",
       "      <td>0.109625</td>\n",
       "      <td>0.049044</td>\n",
       "      <td>0.100553</td>\n",
       "    </tr>\n",
       "    <tr>\n",
       "      <td>more than 50</td>\n",
       "      <td>0.504673</td>\n",
       "      <td>0.404660</td>\n",
       "      <td>0.480384</td>\n",
       "      <td>0.558092</td>\n",
       "      <td>0.696244</td>\n",
       "      <td>0.569981</td>\n",
       "      <td>0.384911</td>\n",
       "      <td>0.485844</td>\n",
       "    </tr>\n",
       "  </tbody>\n",
       "</table>\n",
       "</div>"
      ],
      "text/plain": [
       "                          1         2         3         4         5         6  \\\n",
       "Derived Age Group                                                               \n",
       "27 to 30           0.120316  0.150015  0.224498  0.187328  0.215157  0.151603   \n",
       "31 to 35           0.221679  0.244260  0.322416  0.167740  0.219202  0.144244   \n",
       "36 to 39           0.396880  0.271955  0.316456  0.324957  0.205266  0.201235   \n",
       "40 to 49           0.514851  0.412123  0.452690  0.469925  0.397727  0.413724   \n",
       "age unknown        0.079807  0.080713  0.103288  0.096717  0.121126  0.098018   \n",
       "less than 27       0.072727  0.056148  0.058241  0.039502  0.022302  0.109625   \n",
       "more than 50       0.504673  0.404660  0.480384  0.558092  0.696244  0.569981   \n",
       "\n",
       "                          7         8  \n",
       "Derived Age Group                      \n",
       "27 to 30           0.153846  0.125112  \n",
       "31 to 35           0.222244  0.120100  \n",
       "36 to 39           0.220924  0.264224  \n",
       "40 to 49           0.427094  0.414376  \n",
       "age unknown        0.096582  0.083255  \n",
       "less than 27       0.049044  0.100553  \n",
       "more than 50       0.384911  0.485844  "
      ]
     },
     "execution_count": 53,
     "metadata": {},
     "output_type": "execute_result"
    }
   ],
   "source": [
    "all_fields['Derived Age Group']"
   ]
  },
  {
   "cell_type": "code",
   "execution_count": 54,
   "metadata": {},
   "outputs": [],
   "source": [
    "writer = pd.ExcelWriter('percentages_final.xlsx', engine='xlsxwriter')\n",
    "for i in fields:\n",
    "    all_fields[i].to_excel(writer, sheet_name=i)\n",
    "writer.save()"
   ]
  },
  {
   "cell_type": "code",
   "execution_count": 57,
   "metadata": {},
   "outputs": [],
   "source": [
    "writer = pd.ExcelWriter('field_count.xlsx', engine='xlsxwriter')\n",
    "for field in fields:\n",
    "    mon_cat = leads.groupby([field])\n",
    "    p = pd.DataFrame(data=mon_cat['Lead'].count())\n",
    "    p.to_excel(writer, sheet_name=field)\n",
    "writer.save()"
   ]
  }
 ],
 "metadata": {
  "kernelspec": {
   "display_name": "Python 3",
   "language": "python",
   "name": "python3"
  },
  "language_info": {
   "codemirror_mode": {
    "name": "ipython",
    "version": 3
   },
   "file_extension": ".py",
   "mimetype": "text/x-python",
   "name": "python",
   "nbconvert_exporter": "python",
   "pygments_lexer": "ipython3",
   "version": "3.7.4"
  }
 },
 "nbformat": 4,
 "nbformat_minor": 2
}
